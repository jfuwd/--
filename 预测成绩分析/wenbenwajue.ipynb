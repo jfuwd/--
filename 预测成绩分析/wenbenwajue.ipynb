{
 "cells": [
  {
   "cell_type": "code",
   "execution_count": 1,
   "id": "c19bae40",
   "metadata": {},
   "outputs": [],
   "source": [
    "import pandas as pd\n",
    "import numpy as np\n",
    "from sklearn.model_selection import train_test_split\n",
    "import matplotlib.pyplot as plt\n",
    "from sklearn.model_selection import GridSearchCV"
   ]
  },
  {
   "cell_type": "code",
   "execution_count": 2,
   "id": "76619d0a",
   "metadata": {},
   "outputs": [],
   "source": [
    "%matplotlib inline"
   ]
  },
  {
   "cell_type": "markdown",
   "id": "30b58e6f",
   "metadata": {},
   "source": [
    "### 1.数据处理"
   ]
  },
  {
   "cell_type": "code",
   "execution_count": 3,
   "id": "14b81572",
   "metadata": {},
   "outputs": [
    {
     "name": "stderr",
     "output_type": "stream",
     "text": [
      "C:\\Users\\Administrator\\AppData\\Local\\Temp/ipykernel_43028/396959459.py:16: FutureWarning: Dropping of nuisance columns in DataFrame reductions (with 'numeric_only=None') is deprecated; in a future version this will raise TypeError.  Select only valid columns before calling the reduction.\n",
      "  wbwj_data[\"第二章sum\"]=wbwj_data.sum(axis=1)\n",
      "C:\\Users\\Administrator\\AppData\\Local\\Temp/ipykernel_43028/396959459.py:27: FutureWarning: Dropping of nuisance columns in DataFrame reductions (with 'numeric_only=None') is deprecated; in a future version this will raise TypeError.  Select only valid columns before calling the reduction.\n",
      "  wbwj_data2[\"第三章sum\"]=wbwj_data2.sum(axis=1)\n",
      "C:\\Users\\Administrator\\AppData\\Local\\Temp/ipykernel_43028/396959459.py:37: FutureWarning: Dropping of nuisance columns in DataFrame reductions (with 'numeric_only=None') is deprecated; in a future version this will raise TypeError.  Select only valid columns before calling the reduction.\n",
      "  wbwj_data3[\"第四章sum\"]=wbwj_data3.sum(axis=1)\n",
      "C:\\Users\\Administrator\\AppData\\Local\\Temp/ipykernel_43028/396959459.py:50: FutureWarning: Dropping of nuisance columns in DataFrame reductions (with 'numeric_only=None') is deprecated; in a future version this will raise TypeError.  Select only valid columns before calling the reduction.\n",
      "  wbwj_data4[\"第五章sum\"]=wbwj_data4.sum(axis=1)\n",
      "C:\\Users\\Administrator\\AppData\\Local\\Temp/ipykernel_43028/396959459.py:56: FutureWarning: Dropping of nuisance columns in DataFrame reductions (with 'numeric_only=None') is deprecated; in a future version this will raise TypeError.  Select only valid columns before calling the reduction.\n",
      "  sum_lie=(wbwj_data.sum(axis=1)/(35*5))*100\n"
     ]
    },
    {
     "data": {
      "text/html": [
       "<div>\n",
       "<style scoped>\n",
       "    .dataframe tbody tr th:only-of-type {\n",
       "        vertical-align: middle;\n",
       "    }\n",
       "\n",
       "    .dataframe tbody tr th {\n",
       "        vertical-align: top;\n",
       "    }\n",
       "\n",
       "    .dataframe thead th {\n",
       "        text-align: right;\n",
       "    }\n",
       "</style>\n",
       "<table border=\"1\" class=\"dataframe\">\n",
       "  <thead>\n",
       "    <tr style=\"text-align: right;\">\n",
       "      <th></th>\n",
       "      <th>学号</th>\n",
       "      <th>姓名</th>\n",
       "      <th>专业</th>\n",
       "      <th>作业总分</th>\n",
       "      <th>问卷sum</th>\n",
       "      <th>考试成绩</th>\n",
       "    </tr>\n",
       "  </thead>\n",
       "  <tbody>\n",
       "    <tr>\n",
       "      <th>0</th>\n",
       "      <td>2.017301e+09</td>\n",
       "      <td>李婉盈</td>\n",
       "      <td>计算机科学与技术(2017)</td>\n",
       "      <td>55.0</td>\n",
       "      <td>65.270936</td>\n",
       "      <td>65.0</td>\n",
       "    </tr>\n",
       "    <tr>\n",
       "      <th>1</th>\n",
       "      <td>2.018611e+09</td>\n",
       "      <td>夏志宇</td>\n",
       "      <td>计算机科学与技术(2018)</td>\n",
       "      <td>60.0</td>\n",
       "      <td>68.571429</td>\n",
       "      <td>60.0</td>\n",
       "    </tr>\n",
       "    <tr>\n",
       "      <th>2</th>\n",
       "      <td>2.018612e+09</td>\n",
       "      <td>蔡鲁</td>\n",
       "      <td>数据科学与大数据技术(2018)</td>\n",
       "      <td>81.2</td>\n",
       "      <td>66.857143</td>\n",
       "      <td>81.0</td>\n",
       "    </tr>\n",
       "    <tr>\n",
       "      <th>3</th>\n",
       "      <td>2.018612e+09</td>\n",
       "      <td>陈家豪</td>\n",
       "      <td>数据科学与大数据技术(2018)</td>\n",
       "      <td>87.8</td>\n",
       "      <td>76.000000</td>\n",
       "      <td>95.0</td>\n",
       "    </tr>\n",
       "    <tr>\n",
       "      <th>4</th>\n",
       "      <td>2.018612e+09</td>\n",
       "      <td>陈锦秀</td>\n",
       "      <td>数据科学与大数据技术(2018)</td>\n",
       "      <td>76.8</td>\n",
       "      <td>74.285714</td>\n",
       "      <td>66.0</td>\n",
       "    </tr>\n",
       "  </tbody>\n",
       "</table>\n",
       "</div>"
      ],
      "text/plain": [
       "             学号   姓名                专业  作业总分      问卷sum  考试成绩\n",
       "0  2.017301e+09  李婉盈    计算机科学与技术(2017)  55.0  65.270936  65.0\n",
       "1  2.018611e+09  夏志宇    计算机科学与技术(2018)  60.0  68.571429  60.0\n",
       "2  2.018612e+09   蔡鲁  数据科学与大数据技术(2018)  81.2  66.857143  81.0\n",
       "3  2.018612e+09  陈家豪  数据科学与大数据技术(2018)  87.8  76.000000  95.0\n",
       "4  2.018612e+09  陈锦秀  数据科学与大数据技术(2018)  76.8  74.285714  66.0"
      ]
     },
     "execution_count": 3,
     "metadata": {},
     "output_type": "execute_result"
    }
   ],
   "source": [
    "wbcj_data=pd.read_csv('./学生成绩记录/汕头大学工学院成绩登记表-文本挖掘与推荐系统.csv',skiprows=4)\n",
    "wbcj_data=wbcj_data.drop([\"Unnamed: 8\"],axis=1)\n",
    "wbcj_data=wbcj_data.drop([\"Unnamed: 6\"],axis=1)\n",
    "wbcj_data=wbcj_data.drop([\"Unnamed: 7\"],axis=1)\n",
    "wbcj_data=wbcj_data.dropna()\n",
    "\n",
    "\n",
    "wbwj_data1=pd.read_csv('./文本挖掘与推荐系统-课程调查/第二章调查表.csv',skiprows=2)\n",
    "wbwj_mz=wbwj_data1.iloc[:,1:2]\n",
    "wbwj_jh1=wbwj_data1.iloc[:,3:64:2]\n",
    "wbwj_data = pd.merge(wbwj_mz,wbwj_jh1,left_index=True,right_index=True)\n",
    "if np.any(pd.isnull(wbwj_data))==True:\n",
    "    for i in wbwj_data.columns:\n",
    "        if np.any(pd.isnull(wbwj_data[i]))==True:\n",
    "            wbwj_data[i].fillna(wbwj_data[i].mean(),inplace=True) #将问卷表中NAN的数值变为该列的平均值\n",
    "wbwj_data[\"第二章sum\"]=wbwj_data.sum(axis=1)\n",
    "\n",
    "\n",
    "wbwj_data2=pd.read_csv('./文本挖掘与推荐系统-课程调查/第三章调查表.csv',skiprows=2)\n",
    "wbwj_mz=wbwj_data2.iloc[:,1:2]\n",
    "wbwj_jh=wbwj_data2.iloc[:,3:64:2]\n",
    "wbwj_data2 = pd.merge(wbwj_mz,wbwj_jh,left_index=True,right_index=True)\n",
    "if np.any(pd.isnull(wbwj_data2))==True:\n",
    "    for i in wbwj_data2.columns:\n",
    "        if np.any(pd.isnull(wbwj_data2[i]))==True:\n",
    "            wbwj_data2[i].fillna(wbwj_data2[i].mean(),inplace=True) #将问卷表中NAN的数值变为该列的平均值\n",
    "wbwj_data2[\"第三章sum\"]=wbwj_data2.sum(axis=1)\n",
    "\n",
    "wbwj_data3=pd.read_csv('./文本挖掘与推荐系统-课程调查/第四章调查表.csv',skiprows=2)\n",
    "wbwj_mz=wbwj_data3.iloc[:,1:2]\n",
    "wbwj_jh=wbwj_data3.iloc[:,3:64:2]\n",
    "wbwj_data3 = pd.merge(wbwj_mz,wbwj_jh,left_index=True,right_index=True)\n",
    "if np.any(pd.isnull(wbwj_data3))==True:\n",
    "    for i in wbwj_data3.columns:\n",
    "        if np.any(pd.isnull(wbwj_data3[i]))==True:\n",
    "            wbwj_data3[i].fillna(wbwj_data3[i].mean(),inplace=True) #将问卷表中NAN的数值变为该列的平均值\n",
    "wbwj_data3[\"第四章sum\"]=wbwj_data3.sum(axis=1)\n",
    "\n",
    "wbwj_data4=pd.read_csv('./文本挖掘与推荐系统-课程调查/第五章调查表.csv',skiprows=2)\n",
    "wbwj_mz=wbwj_data4.iloc[:,1:2]\n",
    "wbwj_jh=wbwj_data4.iloc[:,3:64:2]\n",
    "wbwj_data4 = pd.merge(wbwj_mz,wbwj_jh,left_index=True,right_index=True)\n",
    "wbwj_data4=wbwj_data4.drop([\"Unnamed: 21\"],axis=1)\n",
    "wbwj_data4=wbwj_data4.drop([\"Unnamed: 23\"],axis=1)\n",
    "wbwj_data4=wbwj_data4.drop([\"Unnamed: 25\"],axis=1)\n",
    "if np.any(pd.isnull(wbwj_data4))==True:\n",
    "    for i in wbwj_data4.columns:\n",
    "        if np.any(pd.isnull(wbwj_data4[i]))==True:\n",
    "            wbwj_data4[i].fillna(wbwj_data4[i].mean(),inplace=True) #将问卷表中NAN的数值变为该列的平均值\n",
    "wbwj_data4[\"第五章sum\"]=wbwj_data4.sum(axis=1)\n",
    "\n",
    "wbwj_data= pd.merge(wbwj_mz,wbwj_data[\"第二章sum\"],left_index=True,right_index=True)\n",
    "wbwj_data[\"第三章sum\"]=wbwj_data2[\"第三章sum\"]\n",
    "wbwj_data[\"第四章sum\"]=wbwj_data3[\"第四章sum\"]\n",
    "wbwj_data[\"第五章sum\"]=wbwj_data4[\"第五章sum\"]\n",
    "sum_lie=(wbwj_data.sum(axis=1)/(35*5))*100 \n",
    "wbwj_data[\"总sum\"]=sum_lie\n",
    "\n",
    "cols=['学号','姓名','专业','平时成绩(50%)']\n",
    "x1=wbcj_data[cols]\n",
    "cols=['姓名','期末成绩(50%)']\n",
    "y=wbcj_data[cols]\n",
    "\n",
    "cols=['姓名','总sum']\n",
    "x2=wbwj_data[cols]\n",
    "\n",
    "data = pd.merge(x1,x2)#构成所需数据\n",
    "data.columns=['学号','姓名','专业','作业总分','问卷sum']\n",
    "data = pd.merge(data,y)\n",
    "data.columns=['学号','姓名','专业','作业总分','问卷sum','考试成绩']\n",
    "data.head()"
   ]
  },
  {
   "cell_type": "markdown",
   "id": "a65bc5a5",
   "metadata": {},
   "source": [
    "###  2.使用不同方法"
   ]
  },
  {
   "cell_type": "markdown",
   "id": "9c55d294",
   "metadata": {},
   "source": [
    "####  2.1.直接拟合"
   ]
  },
  {
   "cell_type": "code",
   "execution_count": 4,
   "id": "60cc754c",
   "metadata": {},
   "outputs": [],
   "source": [
    "from sklearn.linear_model import LinearRegression\n",
    "def direct_line():\n",
    "    acc=[]\n",
    "    coef=[]\n",
    "    cols=['作业总分','问卷sum']\n",
    "    estimator=LinearRegression()\n",
    "    for i in range(10):\n",
    "        x_train,x_test,y_train,y_test=train_test_split(data[cols],data['考试成绩'],test_size=0.2,random_state=22)\n",
    "        estimator.fit(x_train,y_train)\n",
    "        coef.append(estimator.coef_)\n",
    "\n",
    "        y_pred=estimator.predict(x_test)\n",
    "        acc.append(sum(abs(y_pred-y_test)<10)/len(y_test))\n",
    "        \n",
    "    print(\"\\n系数是:\\n\",np.mean(coef))\n",
    "    print(\"测试集直接拟合的精确度:\\n\",np.mean(acc))\n",
    "    return np.mean(acc)"
   ]
  },
  {
   "cell_type": "markdown",
   "id": "a9abb794",
   "metadata": {},
   "source": [
    "####  2.2.SGD梯度下降"
   ]
  },
  {
   "cell_type": "code",
   "execution_count": 5,
   "id": "555f8e45",
   "metadata": {},
   "outputs": [],
   "source": [
    "from sklearn.linear_model import SGDRegressor\n",
    "from sklearn.preprocessing import StandardScaler\n",
    "def SGD_line():\n",
    "    acc=[]\n",
    "    coef=[]\n",
    "    intercept=[]\n",
    "    cols=['作业总分','问卷sum']\n",
    "    for i in range(10):\n",
    "            #数据预处理\n",
    "        x_train,x_test,y_train,y_test=train_test_split(data[cols],data['考试成绩'],test_size=0.2,random_state=22)    \n",
    "        transfer=StandardScaler()\n",
    "\n",
    "        x_train_std=transfer.fit_transform(x_train)\n",
    "        y_train_std=(y_train-np.mean(y_train))/np.std(y_train)\n",
    "        x_test_std=transfer.fit_transform(x_test)\n",
    "        \n",
    "\n",
    "        estimator=SGDRegressor(loss=\"squared_loss\",fit_intercept=True,learning_rate='invscaling',eta0=0.01)\n",
    "        #fit_intercept,设置偏置，防止过拟合，eta0，学习速率\n",
    "        estimator.fit(x_train_std,y_train_std)\n",
    "\n",
    "        coef.append(estimator.coef_)\n",
    "\n",
    "\n",
    "        intercept.append(estimator.intercept_)\n",
    "\n",
    "        y_pred=estimator.predict(x_test_std)\n",
    "        y_pred=y_pred*np.std(y_test)+np.mean(y_test)\n",
    "        acc.append(sum(abs(y_pred-y_test)<10)/len(y_test))\n",
    "\n",
    "    print(\"\\n系数是:\\n\",np.mean(coef) ) \n",
    "    print(\"偏置是:\\n\",np.mean(intercept))\n",
    "    print(\"测试集SGD梯度下降拟合的精确度:\\n\",np.mean(acc))\n",
    "    return np.mean(acc)"
   ]
  },
  {
   "cell_type": "markdown",
   "id": "0cbcd072",
   "metadata": {},
   "source": [
    "####  2.3.决策树"
   ]
  },
  {
   "cell_type": "code",
   "execution_count": 6,
   "id": "e1e35d37",
   "metadata": {},
   "outputs": [],
   "source": [
    "from sklearn.tree import DecisionTreeClassifier,export_graphviz\n",
    "def decision_tree():\n",
    "    acc=[]\n",
    "    max_acc=0\n",
    "    cols=['作业总分','问卷sum']\n",
    "    for i in range(10):\n",
    "        x_train,x_test,y_train,y_test=train_test_split(data[cols],data['考试成绩'],test_size=0.2,random_state=22)\n",
    "        estimator=DecisionTreeClassifier(criterion='entropy',max_depth=10,random_state=None)\n",
    "        estimator.fit(x_train,y_train)\n",
    "\n",
    "        #预测\n",
    "\n",
    "        y_pred=estimator.predict(x_test)\n",
    "        acc_now=sum(abs(y_pred-y_test)<10)/len(y_test)\n",
    "        acc.append(acc_now)\n",
    "        if acc_now>max_acc:\n",
    "            max_acc=acc_now\n",
    "            export_graphviz(estimator,'./tree.dot')\n",
    "        \n",
    "    print(\"\\n测试集决策树精确度:\\n\",np.mean(acc))\n",
    "    return np.mean(acc)"
   ]
  },
  {
   "cell_type": "markdown",
   "id": "a53eed82",
   "metadata": {},
   "source": [
    "####  2.4.集成学习"
   ]
  },
  {
   "cell_type": "code",
   "execution_count": 7,
   "id": "a71814f3",
   "metadata": {},
   "outputs": [],
   "source": [
    "from sklearn.ensemble import AdaBoostClassifier\n",
    "def integrated_learning():\n",
    "    acc=[]\n",
    "    cols=['作业总分','问卷sum']\n",
    "    for i in range(10):\n",
    "        x_train,x_test,y_train,y_test=train_test_split(data[cols],data['考试成绩'],test_size=0.2,random_state=22)\n",
    "        estimator=DecisionTreeClassifier(criterion='entropy',max_depth=10,random_state=None)\n",
    "        estimator=AdaBoostClassifier(base_estimator=estimator,n_estimators=15, learning_rate=0.01, algorithm='SAMME.R')\n",
    "        estimator.fit(x_train,y_train)\n",
    "\n",
    "        #预测\n",
    "        y_pred=estimator.predict(x_test)\n",
    "        acc.append(sum(abs(y_pred-y_test)<10)/len(y_test))\n",
    "\n",
    "    print(\"\\n测试集boosting精确度:\\n\",np.mean(acc))\n",
    "    return np.mean(acc)"
   ]
  },
  {
   "cell_type": "markdown",
   "id": "eedbc883",
   "metadata": {},
   "source": [
    "#### 2.5.LSTM"
   ]
  },
  {
   "cell_type": "code",
   "execution_count": 8,
   "id": "c035511e",
   "metadata": {},
   "outputs": [],
   "source": [
    "import torch\n",
    "from torch import nn\n",
    "from torch.utils.data import Dataset, DataLoader\n",
    "from torch.utils.tensorboard import SummaryWriter\n",
    "max_index=0\n",
    "def LSTM():\n",
    "    \n",
    "    device=torch.device(\"cuda\" if torch.cuda.is_available() else \"cpu\")\n",
    "    writer = SummaryWriter(log_dir='logs')\n",
    "    input_size=1\n",
    "\n",
    "    class RNN(nn.Module):\n",
    "        def __init__(self,input_size):\n",
    "            super(RNN,self).__init__()\n",
    "            self.rnn = nn.LSTM(\n",
    "                input_size=input_size,\n",
    "                hidden_size=64,\n",
    "                num_layers=1,\n",
    "                batch_first=True\n",
    "            )\n",
    "            self.out = nn.Sequential(\n",
    "                nn.Linear(64,1)\n",
    "            )\n",
    "\n",
    "        def forward(self, x):\n",
    "            r_out,(h_n,h_c) = self.rnn(x,None)  # None 表示 hidden state 会用全0的 state\n",
    "            out = self.out(r_out)\n",
    "            return out\n",
    "\n",
    "\n",
    "\n",
    "    class mytrainset(Dataset):\n",
    "        def __init__(self, data):        \n",
    "            self.data,self.label = data[:,:-1].float(),data[:,-1].float()\n",
    "\n",
    "        def __getitem__(self, index):\n",
    "            return self.data[index],self.label[index]\n",
    "\n",
    "        def __len__(self):\n",
    "            return len(self.data)\n",
    "\n",
    "\n",
    "    train_data=pd.merge(x_train,y_train,left_index=True,right_index=True)\n",
    "\n",
    "    train_numpy=np.array(train_data)\n",
    "    train_mean=np.mean(train_numpy)\n",
    "    train_std=np.std(train_numpy)\n",
    "    train_numpy=(train_numpy-train_mean)/train_std\n",
    "    train_sentor=torch.Tensor(train_numpy)\n",
    "\n",
    "    trainset = mytrainset(train_sentor)\n",
    "    trainloader = DataLoader(trainset,batch_size=30,shuffle=True)\n",
    "    \n",
    "    test_data=pd.merge(x_test,y_test,left_index=True,right_index=True)\n",
    "\n",
    "    test_numpy=np.array(test_data)\n",
    "    test_data_size=len(test_data)\n",
    "    test_mean=np.mean(test_numpy)\n",
    "    test_std=np.std(test_numpy)\n",
    "    test_numpy=(test_numpy-test_mean)/test_std\n",
    "    test_sentor=torch.Tensor(test_numpy)\n",
    "\n",
    "    testset = mytrainset(test_sentor)\n",
    "    test_dataloader = DataLoader(testset,batch_size=5,shuffle=True)\n",
    "    \n",
    "    rnn =RNN(2)\n",
    "    optimizer = torch.optim.Adam(rnn.parameters(), lr=0.001)  \n",
    "    loss_func = nn.MSELoss()\n",
    "    test_time=0\n",
    "    train_batch_size=10\n",
    "    acc=0\n",
    "    for step in range(101):\n",
    "        for tx, ty in trainloader:\n",
    "            #在第1个维度上添加一个维度为1的维度，形状变为[batch,seq_len,input_size]\n",
    "            output = rnn(torch.unsqueeze(tx, dim=0)) \n",
    "            loss = loss_func(torch.squeeze(output), ty)#将output维度为0的维度去掉\n",
    "            optimizer.zero_grad()  \n",
    "            loss.backward()  \n",
    "            optimizer.step()\n",
    "        writer.add_scalar('训练loss', loss, step) \n",
    "        if step%10==0:\n",
    "          print(\"训练轮数:{}\".format(step))  \n",
    "          print(\"loss:{}\".format(loss.item()))\n",
    "\n",
    "        true_time=0\n",
    "        test_batch_size=5\n",
    "        xiaofencha=0\n",
    "        for tx,ty in test_dataloader:\n",
    "          output=rnn(torch.unsqueeze(tx,dim=1))#unsqueeze(tx,dim=1)在tx的1处增加一个维度\n",
    "          output=output[:,-1,:]\n",
    "          output=output.detach().numpy()\n",
    "          output=output*test_std+test_mean\n",
    "          ty=np.array(ty)\n",
    "          ty=ty.reshape(-1,1)\n",
    "          ty=ty*test_std+test_mean\n",
    "          end=ty-output\n",
    "\n",
    "          for i in range(0,len(end)):  \n",
    "            if(abs(end[i])<10):\n",
    "              xiaofencha=xiaofencha+1 \n",
    "          writer.add_scalar('测试精确度',xiaofencha/len(end), step)     \n",
    "        if step%10==0:    \n",
    "          print(\"精确度:{}\\n\".format(xiaofencha/len(end))) \n",
    "        if step>80:\n",
    "            if (xiaofencha/len(end))>acc:\n",
    "                max_index=step\n",
    "                acc=xiaofencha/len(end)\n",
    "\n",
    "    writer.close()\n",
    "    %reload_ext tensorboard\n",
    "    from tensorboard import notebook\n",
    "    %tensorboard --logdir ./logs/ --port=1598\n",
    "    #返回最后20次中最大的精确度\n",
    "    return acc"
   ]
  },
  {
   "cell_type": "markdown",
   "id": "3f6391ac",
   "metadata": {},
   "source": [
    "####  2.6.相关系数"
   ]
  },
  {
   "cell_type": "code",
   "execution_count": 9,
   "id": "12cee155",
   "metadata": {},
   "outputs": [],
   "source": [
    "from scipy.stats import spearmanr\n",
    "def relate():\n",
    "    ##斯皮尔曼相关系数\n",
    "    #useful_data=pd.merge(data[cols],data['考试成绩'],left_index=True,right_index=True)\n",
    "    for i in data[cols].columns:\n",
    "        print(\"{}与考试成绩的斯皮尔曼相关性:\\n\".format(i),spearmanr(data[i],data['考试成绩']))"
   ]
  },
  {
   "cell_type": "markdown",
   "id": "db6cb06e",
   "metadata": {},
   "source": [
    "###  3.数据集划分"
   ]
  },
  {
   "cell_type": "code",
   "execution_count": 10,
   "id": "0d20ab78",
   "metadata": {},
   "outputs": [],
   "source": [
    "cols=['作业总分','问卷sum']\n",
    "x_train,x_test,y_train,y_test=train_test_split(data[cols],data['考试成绩'],test_size=0.2,random_state=22)\n",
    "#在lstm中会使用，其他会在其函数中自动重新分配十次"
   ]
  },
  {
   "cell_type": "markdown",
   "id": "27ed9572",
   "metadata": {},
   "source": [
    "### 4.实现各类方法并返回准确率"
   ]
  },
  {
   "cell_type": "code",
   "execution_count": 11,
   "id": "2a3e09e8",
   "metadata": {},
   "outputs": [
    {
     "name": "stdout",
     "output_type": "stream",
     "text": [
      "\n",
      "系数是:\n",
      " 0.3194831577711621\n",
      "测试集直接拟合的精确度:\n",
      " 0.7142857142857143\n",
      "\n",
      "系数是:\n",
      " 0.2413232526821401\n",
      "偏置是:\n",
      " 0.0003742404958535305\n",
      "测试集SGD梯度下降拟合的精确度:\n",
      " 0.7142857142857143\n",
      "\n",
      "测试集决策树精确度:\n",
      " 0.2857142857142857\n",
      "\n",
      "测试集boosting精确度:\n",
      " 0.3142857142857142\n",
      "训练轮数:0\n",
      "loss:1.4161059856414795\n",
      "精确度:0.0\n",
      "\n",
      "训练轮数:10\n",
      "loss:1.1929197311401367\n",
      "精确度:0.0\n",
      "\n",
      "训练轮数:20\n",
      "loss:0.8298037648200989\n",
      "精确度:0.0\n",
      "\n",
      "训练轮数:30\n",
      "loss:0.8871525526046753\n",
      "精确度:0.5\n",
      "\n",
      "训练轮数:40\n",
      "loss:0.9670709371566772\n",
      "精确度:0.5\n",
      "\n",
      "训练轮数:50\n",
      "loss:0.8625096082687378\n",
      "精确度:0.5\n",
      "\n",
      "训练轮数:60\n",
      "loss:0.9377005100250244\n",
      "精确度:0.5\n",
      "\n",
      "训练轮数:70\n",
      "loss:0.9476099014282227\n",
      "精确度:0.5\n",
      "\n",
      "训练轮数:80\n",
      "loss:0.8595710396766663\n",
      "精确度:0.5\n",
      "\n",
      "训练轮数:90\n",
      "loss:0.8121111392974854\n",
      "精确度:0.5\n",
      "\n",
      "训练轮数:100\n",
      "loss:0.7919428944587708\n",
      "精确度:0.5\n",
      "\n"
     ]
    },
    {
     "data": {
      "text/plain": [
       "Reusing TensorBoard on port 1598 (pid 26140), started 2 days, 17:59:24 ago. (Use '!kill 26140' to kill it.)"
      ]
     },
     "metadata": {},
     "output_type": "display_data"
    },
    {
     "data": {
      "text/html": [
       "\n",
       "      <iframe id=\"tensorboard-frame-d69b55c0b1716281\" width=\"100%\" height=\"800\" frameborder=\"0\">\n",
       "      </iframe>\n",
       "      <script>\n",
       "        (function() {\n",
       "          const frame = document.getElementById(\"tensorboard-frame-d69b55c0b1716281\");\n",
       "          const url = new URL(\"/\", window.location);\n",
       "          const port = 1598;\n",
       "          if (port) {\n",
       "            url.port = port;\n",
       "          }\n",
       "          frame.src = url;\n",
       "        })();\n",
       "      </script>\n",
       "    "
      ],
      "text/plain": [
       "<IPython.core.display.HTML object>"
      ]
     },
     "metadata": {},
     "output_type": "display_data"
    }
   ],
   "source": [
    "# -*- coding: utf-8 -*-\n",
    "import matplotlib.pyplot as plt\n",
    "acc_list=[]\n",
    "title_list=['直接拟合','SGD梯度下降','决策树','集成学习','LSTM']\n",
    "acc_list.append(direct_line())\n",
    "acc_list.append(SGD_line())\n",
    "acc_list.append(decision_tree())\n",
    "acc_list.append(integrated_learning())\n",
    "acc_list.append(LSTM())\n",
    "\n"
   ]
  },
  {
   "cell_type": "markdown",
   "id": "bb821c8d",
   "metadata": {},
   "source": [
    "###  5.画图数据比较与分析"
   ]
  },
  {
   "cell_type": "code",
   "execution_count": 12,
   "id": "ea511912",
   "metadata": {},
   "outputs": [
    {
     "data": {
      "image/png": "[encoded data removed]",
      "text/plain": [
       "<Figure size 432x288 with 1 Axes>"
      ]
     },
     "metadata": {
      "needs_background": "light"
     },
     "output_type": "display_data"
    }
   ],
   "source": [
    "plt.rcParams['font.family']='STsong'# 显示汉字 SimHei黑体，STsong 华文宋体还有font.style  font.size等\n",
    "plt.rcParams['axes.unicode_minus'] = False\n",
    "\n",
    "plt.grid(True)\n",
    "plt.bar(title_list,acc_list)\n",
    "for a,b in zip(title_list, acc_list):\n",
    "    plt.text(a,b,\n",
    "             round(b,2),\n",
    "             ha='center', \n",
    "             va='bottom',\n",
    "            )\n",
    "\n",
    "plt.show()"
   ]
  },
  {
   "cell_type": "code",
   "execution_count": 13,
   "id": "d3f4c8fc",
   "metadata": {},
   "outputs": [
    {
     "name": "stdout",
     "output_type": "stream",
     "text": [
      "作业总分与考试成绩的斯皮尔曼相关性:\n",
      " SpearmanrResult(correlation=0.7177469051500303, pvalue=2.5816811069085145e-06)\n",
      "问卷sum与考试成绩的斯皮尔曼相关性:\n",
      " SpearmanrResult(correlation=0.13767425190526147, pvalue=0.4448478644668984)\n"
     ]
    }
   ],
   "source": [
    "relate()"
   ]
  },
  {
   "cell_type": "code",
   "execution_count": null,
   "id": "54d84856",
   "metadata": {},
   "outputs": [],
   "source": []
  }
 ],
 "metadata": {
  "kernelspec": {
   "display_name": "Python 3 (ipykernel)",
   "language": "python",
   "name": "python3"
  },
  "language_info": {
   "codemirror_mode": {
    "name": "ipython",
    "version": 3
   },
   "file_extension": ".py",
   "mimetype": "text/x-python",
   "name": "python",
   "nbconvert_exporter": "python",
   "pygments_lexer": "ipython3",
   "version": "3.9.7"
  }
 },
 "nbformat": 4,
 "nbformat_minor": 5
}
